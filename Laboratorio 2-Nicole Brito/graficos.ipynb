{
 "cells": [
  {
   "cell_type": "code",
   "execution_count": 1,
   "metadata": {},
   "outputs": [],
   "source": [
    "        # Laboratorio 2: IoT MQTT y Plotly\n",
    "        # Alumna: Nicole Brito Strusi\n",
    "        # Carnet: 20181110056\n",
    "        \n",
    "#Importaciones\n",
    "from jupyter_dash import JupyterDash\n",
    "import dash_core_components as dcc\n",
    "import dash_html_components as html\n",
    "from plotly.subplots import make_subplots\n",
    "import plotly.graph_objects as go\n",
    "from dash.dependencies import (Input, Output)\n",
    "import plotly.graph_objs as go\n",
    "import psycopg2\n",
    "import pandas as pd\n",
    "import time\n",
    "import random\n",
    "from csv import writer\n",
    "import os\n",
    "#Importaciones BD\n",
    "import psycopg2"
   ]
  },
  {
   "cell_type": "code",
   "execution_count": 2,
   "metadata": {},
   "outputs": [],
   "source": [
    "#Conexión con la Base de datos\n",
    "def get_connection():\n",
    "    connection = psycopg2.connect(\n",
    "        user = \"vtkzhkkf\",\n",
    "        password = \"w8yb7qjFvIohzaCOyH7oAenyA8_R2gXN\",\n",
    "        host = \"queenie.db.elephantsql.com\",\n",
    "        port = \"5432\",\n",
    "        database = \"vtkzhkkf\"\n",
    "    )\n",
    "    return connection\n",
    "\n",
    "def close_connection(connection):\n",
    "    if connection:\n",
    "        connection.close()\n",
    "        \n",
    "conexionBD = get_connection()"
   ]
  },
  {
   "cell_type": "code",
   "execution_count": 3,
   "metadata": {},
   "outputs": [],
   "source": [
    "app = JupyterDash(__name__)"
   ]
  },
  {
   "cell_type": "code",
   "execution_count": 4,
   "metadata": {},
   "outputs": [
    {
     "data": {
      "text/html": [
       "\n",
       "        <iframe\n",
       "            width=\"100%\"\n",
       "            height=\"650\"\n",
       "            src=\"http://127.0.0.1:8080/\"\n",
       "            frameborder=\"0\"\n",
       "            allowfullscreen\n",
       "        ></iframe>\n",
       "        "
      ],
      "text/plain": [
       "<IPython.lib.display.IFrame at 0x7fa40a8af490>"
      ]
     },
     "metadata": {},
     "output_type": "display_data"
    }
   ],
   "source": [
    "#GRÁFICA 1 - NEVERA\n",
    "\n",
    "#Nuevo Layout para la gráfica\n",
    "app.layout = html.Div([\n",
    "    dcc.Graph(id='demo-live'),\n",
    "    #Cada segundo el layout se actualiza\n",
    "    dcc.Interval(id='output-update', interval=1000)\n",
    "])\n",
    "\n",
    "@app.callback(\n",
    "    Output(component_id='demo-live', component_property='figure'),\n",
    "    [Input(component_id='output-update', component_property='n_intervals')]\n",
    ")\n",
    "\n",
    "\n",
    "def get_live_updates(n_intervals):\n",
    "    \n",
    "    #Query para traer los datos de la BD de la nevera - temperatura\n",
    "    query = \"\"\"SELECT fecha_temperatura, temperatura FROM public.nevera ORDER BY id DESC LIMIT 30;\"\"\"\n",
    "    #Leyendo el Query\n",
    "    data = pd.read_sql_query(query, conexionBD, index_col=None, coerce_float=True, params=None, parse_dates=None, chunksize=None)\n",
    "    \n",
    "    #print(data)\n",
    "    x = sorted(data['fecha_temperatura'].to_list()) #Eje x\n",
    "    y = (data['temperatura'].to_list()) #Eje y\n",
    "    #Eje y invirtiendo los datos para que salgan correctamente en la gráfica\n",
    "    y.reverse() \n",
    "    \n",
    "    #Query para traer los datos de la BD de la nevera - hielo\n",
    "    query = \"\"\"SELECT fecha_hielo, hielo FROM public.hielo ORDER BY id DESC LIMIT 30;\"\"\"\n",
    "    #Leyendo el Query\n",
    "    data = pd.read_sql_query(query, conexionBD, index_col=None, coerce_float=True, params=None, parse_dates=None, chunksize=None)\n",
    "   \n",
    "    #print(data)\n",
    "    w = sorted(data['fecha_hielo'].to_list()) #Eje x\n",
    "    z =(data['hielo'].to_list()) #Eje y\n",
    "    #Eje y invirtiendo los datos para que salgan correctamente en la gráfica\n",
    "    z.reverse() \n",
    "    \n",
    "    \n",
    "    dataT= go.Scatter(\n",
    "        x=x, y=y, mode='lines+markers', name=\"Temperatura\"\n",
    "    )\n",
    "    \n",
    "    dataH = go.Scatter(\n",
    "        x=w, y=z, mode='lines+markers', name=\"Hielo\"\n",
    "    )\n",
    "    \n",
    "    layout = go.Layout(\n",
    "        autosize=False,\n",
    "        width=780,\n",
    "        height=500,\n",
    "        margin=dict(l=55, r=20, t=45, b=60),\n",
    "        paper_bgcolor=\"LightSteelBlue\",\n",
    "        plot_bgcolor='#ebf3fc',\n",
    "        title=\"Nevera de la Casa\",\n",
    "        xaxis_title=\"X Fecha\",\n",
    "        yaxis_title=\"Y Cantidad Hielo/Temperatura\",\n",
    "    )\n",
    "    fig = {'data' : [dataT, dataH],'layout' : layout}\n",
    "    \n",
    "    return fig\n",
    "\n",
    "#Correr\n",
    "app.run_server(mode='inline', debug=True, port=8080)"
   ]
  },
  {
   "cell_type": "code",
   "execution_count": 5,
   "metadata": {},
   "outputs": [
    {
     "data": {
      "text/html": [
       "\n",
       "        <iframe\n",
       "            width=\"100%\"\n",
       "            height=\"650\"\n",
       "            src=\"http://127.0.0.1:8080/\"\n",
       "            frameborder=\"0\"\n",
       "            allowfullscreen\n",
       "        ></iframe>\n",
       "        "
      ],
      "text/plain": [
       "<IPython.lib.display.IFrame at 0x7fa40b0243a0>"
      ]
     },
     "metadata": {},
     "output_type": "display_data"
    }
   ],
   "source": [
    "#GRÁFICA 2 - OLLA\n",
    "\n",
    "#Nuevo Layout para la gráfica\n",
    "app.layout = html.Div([\n",
    "    dcc.Graph(id='demo-live2'),\n",
    "    #Cada segundo el layout se actualiza\n",
    "    dcc.Interval(id='output-update', interval=1000)\n",
    "])\n",
    "\n",
    "@app.callback(\n",
    "    Output(component_id='demo-live2', component_property='figure'),\n",
    "    [Input(component_id='output-update', component_property='n_intervals')]\n",
    ")\n",
    "\n",
    "\n",
    "def get_live_updates(n_intervals):\n",
    "    \n",
    "    #Query para traer los datos de la BD de la olla\n",
    "    query = \"\"\"SELECT fecha_olla, olla FROM public.olla ORDER BY id DESC LIMIT 30;\"\"\"\n",
    "    #Leyendo el Query\n",
    "    data = pd.read_sql_query(query, conexionBD, index_col=None, coerce_float=True, params=None, parse_dates=None, chunksize=None)\n",
    "    #print(data)\n",
    "    x = sorted(data['fecha_olla'].to_list()) #Eje x\n",
    "    y = (data['olla'].to_list()) #Eje y\n",
    "    #Eje y invertido para que salgan correctamente en la gráfica\n",
    "    y.reverse() \n",
    "    data = go.Scatter(\n",
    "        x=x, y=y, mode='lines+markers', name=\"Olla\"\n",
    "    )\n",
    "    layout = go.Layout(\n",
    "        autosize=False,\n",
    "        width=780,\n",
    "        height=500,\n",
    "        margin=dict(l=55, r=20, t=45, b=60),\n",
    "        paper_bgcolor=\"LightSteelBlue\",\n",
    "        plot_bgcolor='#ebf3fc',\n",
    "        title=\"Olla de la Casa\",\n",
    "        xaxis_title=\"X Fecha\",\n",
    "        yaxis_title=\"Y Temperatura Olla\",\n",
    "    )\n",
    "    fig = {'data' : [data], 'layout' : layout}\n",
    "    return fig\n",
    "\n",
    "#Correr\n",
    "app.run_server(mode='inline', debug=True, port=8080)"
   ]
  },
  {
   "cell_type": "code",
   "execution_count": 6,
   "metadata": {},
   "outputs": [
    {
     "data": {
      "text/html": [
       "\n",
       "        <iframe\n",
       "            width=\"100%\"\n",
       "            height=\"650\"\n",
       "            src=\"http://127.0.0.1:8080/\"\n",
       "            frameborder=\"0\"\n",
       "            allowfullscreen\n",
       "        ></iframe>\n",
       "        "
      ],
      "text/plain": [
       "<IPython.lib.display.IFrame at 0x7fa40a960b80>"
      ]
     },
     "metadata": {},
     "output_type": "display_data"
    }
   ],
   "source": [
    "#GRÁFICA 3 - PERSONAS\n",
    "\n",
    "#Nuevo Layout para la gráfica\n",
    "app.layout = html.Div([\n",
    "    dcc.Graph(id='demo-live3'),\n",
    "    #Cada segundo el layout se actualiza\n",
    "    dcc.Interval(id='output-update', interval=1000)\n",
    "])\n",
    "\n",
    "@app.callback(\n",
    "    Output(component_id='demo-live3', component_property='figure'),\n",
    "    [Input(component_id='output-update', component_property='n_intervals')]\n",
    ")\n",
    "\n",
    "\n",
    "def get_live_updates(n_intervals):\n",
    "    \n",
    "    #Query para traer los datos de la BD de las personas\n",
    "    query = \"\"\"SELECT fecha_personas, cantidad_personas FROM public.personas ORDER BY id DESC LIMIT 30;\"\"\"\n",
    "    #Leyendo el Query \n",
    "    data = pd.read_sql_query(query, conexionBD, index_col=None, coerce_float=True, params=None, parse_dates=None, chunksize=None)\n",
    "    #print(data)\n",
    "    x = sorted(data['fecha_personas'].to_list()) #Eje x\n",
    "    y = (data['cantidad_personas'].to_list()) #Eje y\n",
    "    #Eje y invirtiendo los datos para que salgan correctamente en la gráfica\n",
    "    y.reverse() \n",
    "    data = go.Scatter(\n",
    "        x=x, y=y, mode='lines+markers', name=\"Cantidad Personas\"\n",
    "    )\n",
    "    layout = go.Layout(\n",
    "        autosize=False,\n",
    "        width=780,\n",
    "        height=500,\n",
    "        margin=dict(l=55, r=20, t=45, b=60),\n",
    "        paper_bgcolor=\"LightSteelBlue\",\n",
    "        plot_bgcolor='#ebf3fc',\n",
    "        title=\"Cantidad de Personas en la Sala\",\n",
    "        xaxis_title=\"X Fecha\",\n",
    "        yaxis_title=\"Y Cantidad Personas\",\n",
    "    )\n",
    "    fig = {'data' : [data], 'layout' : layout}\n",
    "    return fig\n",
    "\n",
    "#Correr\n",
    "app.run_server(mode='inline', debug=True, port=8080)"
   ]
  },
  {
   "cell_type": "code",
   "execution_count": 7,
   "metadata": {},
   "outputs": [
    {
     "data": {
      "text/html": [
       "\n",
       "        <iframe\n",
       "            width=\"100%\"\n",
       "            height=\"650\"\n",
       "            src=\"http://127.0.0.1:8080/\"\n",
       "            frameborder=\"0\"\n",
       "            allowfullscreen\n",
       "        ></iframe>\n",
       "        "
      ],
      "text/plain": [
       "<IPython.lib.display.IFrame at 0x7fa40b029430>"
      ]
     },
     "metadata": {},
     "output_type": "display_data"
    }
   ],
   "source": [
    "#GRÁFICA 4 - ALEXA\n",
    "\n",
    "#Nuevo Layout para la gráfica\n",
    "app.layout = html.Div([\n",
    "    dcc.Graph(id='demo-live4'),\n",
    "    #Cada segundo el layout se actualiza\n",
    "    dcc.Interval(id='output-update', interval=1000)\n",
    "])\n",
    "\n",
    "@app.callback(\n",
    "    Output(component_id='demo-live4', component_property='figure'),\n",
    "    [Input(component_id='output-update', component_property='n_intervals')]\n",
    ")\n",
    "\n",
    "\n",
    "def get_live_updates(n_intervals):\n",
    "    \n",
    "    #Query para traer los datos de la BD de Alexa\n",
    "    query = \"\"\"SELECT fecha_alexa, temperatura_alexa FROM public.alexa ORDER BY id DESC LIMIT 30;\"\"\"\n",
    "    #Leyendo el Query\n",
    "    data = pd.read_sql_query(query, conexionBD, index_col=None, coerce_float=True, params=None, parse_dates=None, chunksize=None)\n",
    "    #print(data)\n",
    "    x = sorted(data['fecha_alexa'].to_list()) #Eje x\n",
    "    y = (data['temperatura_alexa'].to_list()) #Eje y\n",
    "    #Eje y invirtiendo los datos para que salgan correctamente en la gráfica\n",
    "    y.reverse() \n",
    "    data = go.Scatter(\n",
    "        x=x, y=y, mode='lines+markers',name=\"Temperatura CCS\"\n",
    "    )\n",
    "    layout = go.Layout(\n",
    "        autosize=False,\n",
    "        width=780,\n",
    "        height=500,\n",
    "        margin=dict(l=55, r=20, t=45, b=60),\n",
    "        paper_bgcolor=\"LightSteelBlue\",\n",
    "        plot_bgcolor='#ebf3fc',\n",
    "        title=\"Temperatura con Alexa\",\n",
    "        xaxis_title=\"X Fecha\",\n",
    "        yaxis_title=\"Y Temperatura Alexa\",\n",
    "    )\n",
    "    fig = {'data' : [data], 'layout' : layout}\n",
    "    return fig\n",
    "\n",
    "#Correr\n",
    "app.run_server(mode='inline', debug=True, port=8080)"
   ]
  },
  {
   "cell_type": "code",
   "execution_count": 8,
   "metadata": {},
   "outputs": [
    {
     "data": {
      "text/html": [
       "\n",
       "        <iframe\n",
       "            width=\"100%\"\n",
       "            height=\"650\"\n",
       "            src=\"http://127.0.0.1:8080/\"\n",
       "            frameborder=\"0\"\n",
       "            allowfullscreen\n",
       "        ></iframe>\n",
       "        "
      ],
      "text/plain": [
       "<IPython.lib.display.IFrame at 0x7fa40b055400>"
      ]
     },
     "metadata": {},
     "output_type": "display_data"
    }
   ],
   "source": [
    "#GRÁFICA 5 - BAÑO\n",
    "\n",
    "#Nuevo Layout para la gráfica\n",
    "app.layout = html.Div([\n",
    "    dcc.Graph(id='demo-live5'),\n",
    "    #Cada segundo el layout se actualiza\n",
    "    dcc.Interval(id='output-update', interval=1000)\n",
    "])\n",
    "\n",
    "@app.callback(\n",
    "    Output(component_id='demo-live5', component_property='figure'),\n",
    "    [Input(component_id='output-update', component_property='n_intervals')]\n",
    ")\n",
    "\n",
    "\n",
    "def get_live_updates(n_intervals):\n",
    "    \n",
    "    #Query para traer los datos de la BD del baño\n",
    "    query = \"\"\"SELECT fecha_tanque, tanque FROM public.bano ORDER BY id DESC LIMIT 30;\"\"\"\n",
    "    #Leyendo el Query\n",
    "    data = pd.read_sql_query(query, conexionBD, index_col=None, coerce_float=True, params=None, parse_dates=None, chunksize=None)\n",
    "    #print(data)\n",
    "    x = sorted(data['fecha_tanque'].to_list()) #Eje x\n",
    "    y = (data['tanque'].to_list()) #Eje y\n",
    "    #Eje y invirtiendo los datos para que salgan correctamente en la gráfica\n",
    "    y.reverse() \n",
    "    data = go.Scatter(\n",
    "        x=x, y=y, mode='lines+markers',name=\"Baño\"\n",
    "    )\n",
    "    layout = go.Layout(\n",
    "        autosize=False,\n",
    "        width=780,\n",
    "        height=500,\n",
    "        margin=dict(l=60, r=20, t=45, b=60),\n",
    "        paper_bgcolor=\"LightSteelBlue\",\n",
    "        plot_bgcolor='#ebf3fc',\n",
    "        title=\"Baño de la Casa\",\n",
    "        xaxis_title=\"X Fecha\",\n",
    "        yaxis_title=\"Y Agua Tanque\",\n",
    "    )\n",
    "    fig = {'data' : [data], 'layout' : layout}\n",
    "    return fig\n",
    "\n",
    "#Correr\n",
    "app.run_server(mode='inline', debug=True, port=8080)"
   ]
  },
  {
   "cell_type": "code",
   "execution_count": null,
   "metadata": {},
   "outputs": [],
   "source": []
  },
  {
   "cell_type": "code",
   "execution_count": null,
   "metadata": {},
   "outputs": [],
   "source": []
  }
 ],
 "metadata": {
  "kernelspec": {
   "display_name": "Python 3",
   "language": "python",
   "name": "python3"
  },
  "language_info": {
   "codemirror_mode": {
    "name": "ipython",
    "version": 3
   },
   "file_extension": ".py",
   "mimetype": "text/x-python",
   "name": "python",
   "nbconvert_exporter": "python",
   "pygments_lexer": "ipython3",
   "version": "3.8.5"
  }
 },
 "nbformat": 4,
 "nbformat_minor": 4
}
